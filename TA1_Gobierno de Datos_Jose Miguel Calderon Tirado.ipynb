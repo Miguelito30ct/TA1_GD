{
 "cells": [
  {
   "cell_type": "code",
   "execution_count": 3,
   "id": "ddf500c0-6a77-4399-8104-67f6d2384e58",
   "metadata": {},
   "outputs": [
    {
     "name": "stdout",
     "output_type": "stream",
     "text": [
      "Requirement already satisfied: requests in c:\\users\\jcalderont\\appdata\\local\\anaconda3\\lib\\site-packages (2.32.2)\n",
      "Requirement already satisfied: pandas in c:\\users\\jcalderont\\appdata\\local\\anaconda3\\lib\\site-packages (2.2.2)\n",
      "Requirement already satisfied: python-dotenv in c:\\users\\jcalderont\\appdata\\local\\anaconda3\\lib\\site-packages (0.21.0)\n",
      "Requirement already satisfied: charset-normalizer<4,>=2 in c:\\users\\jcalderont\\appdata\\local\\anaconda3\\lib\\site-packages (from requests) (2.0.4)\n",
      "Requirement already satisfied: idna<4,>=2.5 in c:\\users\\jcalderont\\appdata\\local\\anaconda3\\lib\\site-packages (from requests) (3.7)\n",
      "Requirement already satisfied: urllib3<3,>=1.21.1 in c:\\users\\jcalderont\\appdata\\local\\anaconda3\\lib\\site-packages (from requests) (2.2.2)\n",
      "Requirement already satisfied: certifi>=2017.4.17 in c:\\users\\jcalderont\\appdata\\local\\anaconda3\\lib\\site-packages (from requests) (2024.6.2)\n",
      "Requirement already satisfied: numpy>=1.26.0 in c:\\users\\jcalderont\\appdata\\local\\anaconda3\\lib\\site-packages (from pandas) (1.26.4)\n",
      "Requirement already satisfied: python-dateutil>=2.8.2 in c:\\users\\jcalderont\\appdata\\local\\anaconda3\\lib\\site-packages (from pandas) (2.9.0.post0)\n",
      "Requirement already satisfied: pytz>=2020.1 in c:\\users\\jcalderont\\appdata\\local\\anaconda3\\lib\\site-packages (from pandas) (2024.1)\n",
      "Requirement already satisfied: tzdata>=2022.7 in c:\\users\\jcalderont\\appdata\\local\\anaconda3\\lib\\site-packages (from pandas) (2023.3)\n",
      "Requirement already satisfied: six>=1.5 in c:\\users\\jcalderont\\appdata\\local\\anaconda3\\lib\\site-packages (from python-dateutil>=2.8.2->pandas) (1.16.0)\n"
     ]
    }
   ],
   "source": [
    "!pip install requests pandas python-dotenv"
   ]
  },
  {
   "cell_type": "code",
   "execution_count": 4,
   "id": "e4d4a7a6-2e32-4f89-b4be-feb55f50a5eb",
   "metadata": {},
   "outputs": [
    {
     "name": "stdout",
     "output_type": "stream",
     "text": [
      "Temperatura en la ciudad: 9.61 °C\n",
      "Tipo de cambio (USD a EUR): 0.91\n",
      "                                               title  \\\n",
      "0  Hungary will withdraw from ICC, government say...   \n",
      "1  Dow futures fall after tariffs push market to ...   \n",
      "2  Senate Republicans vote to advance a massive b...   \n",
      "3  At first blush, Geno Smith’s contract isn’t dr...   \n",
      "4  Zoe Saldaña Shows Off ‘Avatar: Fire And Ash’ A...   \n",
      "\n",
      "                                         description  \n",
      "0  Hungary announced it would leave the Internati...  \n",
      "1  The three major indexes are on track to end th...  \n",
      "2  The Republican-led Senate voted 52-48 on Thurs...  \n",
      "3  Remember when the Seahawks pivoted from Geno S...  \n",
      "4  James Cameron's Avatar: Fire and Ash showed of...  \n",
      "Temperatura válida: 9.61 °C\n",
      "Tipo de cambio válido: 0.91\n"
     ]
    }
   ],
   "source": [
    "import requests\n",
    "import pandas as pd\n",
    "from dotenv import load_dotenv\n",
    "import os\n",
    "\n",
    "# Cargar las variables de entorno desde el archivo .env\n",
    "load_dotenv()\n",
    "\n",
    "# Obtener las claves API del archivo .env\n",
    "news_api_key = os.getenv(\"NEWS_API_KEY\")\n",
    "weather_api_key = os.getenv(\"WEATHER_API_KEY\")\n",
    "exchange_api_key = os.getenv(\"EXCHANGE_API_KEY\")\n",
    "\n",
    "# Función para obtener noticias\n",
    "def get_news(api_key):\n",
    "    url = f'https://newsapi.org/v2/top-headlines?country=us&apiKey={api_key}'\n",
    "    response = requests.get(url)\n",
    "    news_data = response.json()\n",
    "    \n",
    "    # Extracción de los títulos y descripciones\n",
    "    articles = [{'title': article['title'], 'description': article['description']} for article in news_data['articles']]\n",
    "    \n",
    "    return pd.DataFrame(articles)\n",
    "\n",
    "# Función para obtener la temperatura\n",
    "def get_temperature(api_key, city=\"London\"):\n",
    "    url = f'http://api.openweathermap.org/data/2.5/weather?q={city}&appid={api_key}'\n",
    "    response = requests.get(url)\n",
    "    weather_data = response.json()\n",
    "    \n",
    "    # Convertir la temperatura de Kelvin a Celsius\n",
    "    temperature = weather_data['main']['temp'] - 273.15\n",
    "    return temperature\n",
    "\n",
    "# Función para obtener el tipo de cambio\n",
    "def get_exchange_rate(api_key, base=\"USD\", target=\"EUR\"):\n",
    "    url = f'https://v6.exchangerate-api.com/v6/{api_key}/latest/{base}'\n",
    "    response = requests.get(url)\n",
    "    exchange_data = response.json()\n",
    "    \n",
    "    # Obtener la tasa de cambio para la moneda objetivo\n",
    "    exchange_rate = exchange_data['conversion_rates'][target]\n",
    "    return exchange_rate\n",
    "\n",
    "# Obtener los datos\n",
    "news_df = get_news(news_api_key)\n",
    "temperature = get_temperature(weather_api_key)\n",
    "exchange_rate = get_exchange_rate(exchange_api_key)\n",
    "\n",
    "# Mostrar los resultados\n",
    "print(f\"Temperatura en la ciudad: {temperature:.2f} °C\")\n",
    "print(f\"Tipo de cambio (USD a EUR): {exchange_rate:.2f}\")\n",
    "print(news_df.head())  # Mostrar las primeras noticias\n",
    "\n",
    "# Limpiar los datos de noticias (eliminar filas sin título o descripción)\n",
    "news_df_cleaned = news_df.dropna(subset=['title', 'description'])\n",
    "\n",
    "# Validación de la temperatura (debe estar dentro de un rango lógico)\n",
    "if temperature < -50 or temperature > 50:\n",
    "    print(\"Temperatura no válida\")\n",
    "else:\n",
    "    print(f\"Temperatura válida: {temperature:.2f} °C\")\n",
    "\n",
    "# Validación del tipo de cambio (debe estar dentro de un rango esperado)\n",
    "if exchange_rate < 0.5 or exchange_rate > 2:\n",
    "    print(\"Tipo de cambio fuera de rango esperado\")\n",
    "else:\n",
    "    print(f\"Tipo de cambio válido: {exchange_rate:.2f}\")\n"
   ]
  },
  {
   "cell_type": "code",
   "execution_count": null,
   "id": "07ec2624-8aed-435a-a581-ad5703f31cbd",
   "metadata": {},
   "outputs": [],
   "source": []
  }
 ],
 "metadata": {
  "kernelspec": {
   "display_name": "Python 3 (ipykernel)",
   "language": "python",
   "name": "python3"
  },
  "language_info": {
   "codemirror_mode": {
    "name": "ipython",
    "version": 3
   },
   "file_extension": ".py",
   "mimetype": "text/x-python",
   "name": "python",
   "nbconvert_exporter": "python",
   "pygments_lexer": "ipython3",
   "version": "3.12.4"
  }
 },
 "nbformat": 4,
 "nbformat_minor": 5
}
